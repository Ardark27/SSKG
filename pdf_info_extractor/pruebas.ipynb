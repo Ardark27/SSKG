{
 "cells": [
  {
   "cell_type": "code",
   "execution_count": 1,
   "metadata": {},
   "outputs": [],
   "source": [
    "import tika\n",
    "from tika import parser\n",
    "import re"
   ]
  },
  {
   "cell_type": "code",
   "execution_count": 2,
   "metadata": {},
   "outputs": [
    {
     "data": {
      "text/plain": [
       "'1.24'"
      ]
     },
     "execution_count": 2,
     "metadata": {},
     "output_type": "execute_result"
    }
   ],
   "source": [
    "tika.__version__"
   ]
  },
  {
   "cell_type": "code",
   "execution_count": 2,
   "metadata": {},
   "outputs": [],
   "source": [
    "from tika import parser\n",
    "import re\n",
    "import os\n",
    "\n",
    "def read_pdf(pdf_path):\n",
    "    raw = parser.from_file(pdf_path)\n",
    "    list_pdf_data = raw['content'].split('\\n')\n",
    "    # delete empty lines\n",
    "    list_pdf_data = [x for x in list_pdf_data if x != '']\n",
    "    return list_pdf_data\n",
    "\n",
    "def get_git_urls(text):\n",
    "    urls_github = re.findall(r'(https?://github.com/\\S+)', text)\n",
    "    urls_gitlab = re.findall(r'(https?://gitlab.com/\\S+)', text)\n",
    "    # create a list with all the urls found\n",
    "    urls = urls_github + urls_gitlab\n",
    "    return urls\n",
    "\n",
    "def look_for_github_urls(list_pdf_data):\n",
    "    github_urls = []\n",
    "    for value in list_pdf_data:\n",
    "        results = get_git_urls(value)\n",
    "        if results:\n",
    "            github_urls.extend(results)\n",
    "    github_urls = [url[:-1] if url[-1] == '.' else url for url in github_urls]\n",
    "    return github_urls\n",
    "\n",
    "def save_github_urls(github_urls, output_path):\n",
    "    with open(output_path, 'w') as f:\n",
    "        f.write('\\n'.join(github_urls))\n",
    "    return 200\n",
    "\n"
   ]
  },
  {
   "cell_type": "code",
   "execution_count": 10,
   "metadata": {},
   "outputs": [],
   "source": [
    "def filter_done(pdf_folder_path='data_pdf',\n",
    "git_urls_folder_path='data_github_urls',\n",
    "no_urls_file='no_urls.txt'):\n",
    "    # get the files in the folders\n",
    "    pdf_files = os.listdir(pdf_folder_path)\n",
    "    git_urls_files = os.listdir(git_urls_folder_path)\n",
    "    # read no_urls.txt\n",
    "    with open(no_urls_file, 'r') as f:\n",
    "        no_urls = f.read().split('\\n')\n",
    "    # remove the extension\n",
    "    pdf_files = [x.replace('.pdf', '') for x in pdf_files]\n",
    "    git_urls_files = [x.replace('.txt', '') for x in git_urls_files]\n",
    "    no_urls_files = [x.replace('.pdf', '') for x in no_urls]\n",
    "    # convert to set\n",
    "    pdf_files = set(pdf_files)\n",
    "    git_urls_files = set(git_urls_files+no_urls_files)\n",
    "    # get the difference\n",
    "    not_done = pdf_files.difference(git_urls_files)\n",
    "    # add the extension\n",
    "    not_done = [x + '.pdf' for x in not_done]\n",
    "    return not_done\n"
   ]
  },
  {
   "cell_type": "code",
   "execution_count": 12,
   "metadata": {},
   "outputs": [
    {
     "data": {
      "text/plain": [
       "['paper11.pdf']"
      ]
     },
     "execution_count": 12,
     "metadata": {},
     "output_type": "execute_result"
    }
   ],
   "source": [
    "filter_done()"
   ]
  },
  {
   "cell_type": "code",
   "execution_count": 13,
   "metadata": {},
   "outputs": [],
   "source": [
    "def pdf_to_git_url(folder_path = 'data_pdf', \n",
    "                      output_folder_path = 'data_github_urls'):\n",
    "    pdf_list = filter_done()\n",
    "    for file_name in pdf_list:\n",
    "        print(file_name)\n",
    "        pdf_path = os.path.join(folder_path, file_name)\n",
    "        try:\n",
    "            pdf_data = read_pdf(pdf_path)\n",
    "            github_urls = look_for_github_urls(pdf_data)\n",
    "            if github_urls:\n",
    "                output_path = os.path.join(output_folder_path, file_name.replace('.pdf', '.txt'))\n",
    "                save_github_urls(github_urls, output_path)\n",
    "            else:\n",
    "                print('no urls')\n",
    "                with open('no_urls.txt', 'a') as f:\n",
    "                    f.write(file_name + '\\n')\n",
    "        except:\n",
    "            print('error')\n",
    "            with open('error.txt', 'a') as f:\n",
    "                f.write(file_name + '\\n')\n",
    "    return 200"
   ]
  },
  {
   "cell_type": "code",
   "execution_count": 14,
   "metadata": {},
   "outputs": [
    {
     "name": "stdout",
     "output_type": "stream",
     "text": [
      "paper11.pdf\n"
     ]
    },
    {
     "data": {
      "text/plain": [
       "200"
      ]
     },
     "execution_count": 14,
     "metadata": {},
     "output_type": "execute_result"
    }
   ],
   "source": [
    "pdf_to_git_url()"
   ]
  }
 ],
 "metadata": {
  "kernelspec": {
   "display_name": "base",
   "language": "python",
   "name": "python3"
  },
  "language_info": {
   "codemirror_mode": {
    "name": "ipython",
    "version": 3
   },
   "file_extension": ".py",
   "mimetype": "text/x-python",
   "name": "python",
   "nbconvert_exporter": "python",
   "pygments_lexer": "ipython3",
   "version": "3.9.13"
  },
  "orig_nbformat": 4,
  "vscode": {
   "interpreter": {
    "hash": "18a6b418ca989a304418b74e14b57df096d22507d5bd0d85ac6f17ef362aab2d"
   }
  }
 },
 "nbformat": 4,
 "nbformat_minor": 2
}
