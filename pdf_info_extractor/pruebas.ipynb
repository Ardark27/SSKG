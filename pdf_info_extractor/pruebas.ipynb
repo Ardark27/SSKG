{
 "cells": [
  {
   "cell_type": "code",
   "execution_count": 15,
   "metadata": {},
   "outputs": [],
   "source": [
    "import tika\n",
    "from tika import parser\n",
    "import re"
   ]
  },
  {
   "cell_type": "code",
   "execution_count": 22,
   "metadata": {},
   "outputs": [],
   "source": [
    "FileName = \"data_pdf/1-s2.0-S1570826820300354-main.pdf\"\n",
    "pdf_data = parser.from_file(FileName)\n"
   ]
  },
  {
   "cell_type": "code",
   "execution_count": 23,
   "metadata": {},
   "outputs": [],
   "source": [
    "list_pdf_data = pdf_data['content'].split('\\n')\n",
    "# delete empty lines\n",
    "list_pdf_data = [x for x in list_pdf_data if x != '']\n"
   ]
  },
  {
   "cell_type": "code",
   "execution_count": 24,
   "metadata": {},
   "outputs": [],
   "source": [
    "def get_git_urls(text):\n",
    "    urls_github = re.findall(r'(https?://github.com/\\S+)', text)\n",
    "    urls_gitlab = re.findall(r'(https?://gitlab.com/\\S+)', text)\n",
    "    # create a list with all the urls found\n",
    "    urls = urls_github + urls_gitlab\n",
    "    return urls"
   ]
  },
  {
   "cell_type": "code",
   "execution_count": 27,
   "metadata": {},
   "outputs": [],
   "source": [
    "github_urls = []\n",
    "for value in list_pdf_data:\n",
    "    results = get_git_urls(value)\n",
    "    if results:\n",
    "        github_urls.extend(results)\n",
    "github_urls = [url[:-1] if url[-1] == '.' else url for url in github_urls]"
   ]
  },
  {
   "cell_type": "code",
   "execution_count": 28,
   "metadata": {},
   "outputs": [
    {
     "data": {
      "text/plain": [
       "['https://github.com/OpenTransport/linked-gtfs',\n",
       " 'https://github.com/oeg-upm/morph-rdb',\n",
       " 'https://github.com/ontop/ontop',\n",
       " 'https://github.com/SDM-TIB/Ontario',\n",
       " 'https://github.com/oeg-upm/morph-csv',\n",
       " 'https://github.com/frmichel/morph-xr2rml',\n",
       " 'https://github.com/OpenTransport/linked-gtfs',\n",
       " 'https://github.com/oeg-upm/morph-rdb',\n",
       " 'https://github.com/ontop/ontop',\n",
       " 'https://github.com/SDM-TIB/Ontario',\n",
       " 'https://github.com/oeg-upm/morph-csv',\n",
       " 'https://github.com/frmichel/morph-xr2rml',\n",
       " 'https://github.com/oeg-upm/gtfs-bench',\n",
       " 'https://github.com/OpenTransport/linked-gtfs',\n",
       " 'https://github.com/oeg-upm/gtfs-bench',\n",
       " 'https://github.com/OpenTransport/linked-gtfs',\n",
       " 'https://github.com/blue-yonder/di-csv2xml',\n",
       " 'https://github.com/SDM-TIB/SDM-RDFizer',\n",
       " 'https://github.com/blue-yonder/di-csv2xml',\n",
       " 'https://github.com/SDM-TIB/SDM-RDFizer',\n",
       " 'https://github.com/oeg-upm/gtfs-bench',\n",
       " 'https://github.com/SDM-TIB/Ontario',\n",
       " 'https://github.com/ontop/ontop',\n",
       " 'https://github.com/oeg-upm/morph-rdb',\n",
       " 'https://github.com/frmichel/morph-xr2rml',\n",
       " 'https://github.com/oeg-upm/morph-csv',\n",
       " 'https://github.com/oeg-upm/gtfs-bench',\n",
       " 'https://github.com/SDM-TIB/Ontario',\n",
       " 'https://github.com/ontop/ontop',\n",
       " 'https://github.com/oeg-upm/morph-rdb',\n",
       " 'https://github.com/frmichel/morph-xr2rml',\n",
       " 'https://github.com/oeg-upm/morph-csv',\n",
       " 'https://github.com/oeg-upm/gtfs-bench/',\n",
       " 'https://github.com/RMLio/rmlmapper-java',\n",
       " 'https://github.com/semantifyit/RocketRML/',\n",
       " 'https://github.com/SDM-TIB/SDM-RDFizer',\n",
       " 'https://github.com/oeg-upm/gtfs-bench/',\n",
       " 'https://github.com/RMLio/rmlmapper-java',\n",
       " 'https://github.com/semantifyit/RocketRML/',\n",
       " 'https://github.com/SDM-TIB/SDM-RDFizer']"
      ]
     },
     "execution_count": 28,
     "metadata": {},
     "output_type": "execute_result"
    }
   ],
   "source": [
    "github_urls"
   ]
  }
 ],
 "metadata": {
  "kernelspec": {
   "display_name": "base",
   "language": "python",
   "name": "python3"
  },
  "language_info": {
   "codemirror_mode": {
    "name": "ipython",
    "version": 3
   },
   "file_extension": ".py",
   "mimetype": "text/x-python",
   "name": "python",
   "nbconvert_exporter": "python",
   "pygments_lexer": "ipython3",
   "version": "3.9.13"
  },
  "orig_nbformat": 4,
  "vscode": {
   "interpreter": {
    "hash": "18a6b418ca989a304418b74e14b57df096d22507d5bd0d85ac6f17ef362aab2d"
   }
  }
 },
 "nbformat": 4,
 "nbformat_minor": 2
}
