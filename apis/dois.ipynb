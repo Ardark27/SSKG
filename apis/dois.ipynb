{
 "cells": [
  {
   "cell_type": "code",
   "execution_count": 1,
   "metadata": {},
   "outputs": [],
   "source": [
    "import pandas as pd\n",
    "import json"
   ]
  },
  {
   "cell_type": "code",
   "execution_count": 2,
   "metadata": {},
   "outputs": [],
   "source": [
    "from api_doi_collector import load_json, transform_json, concat_dfs"
   ]
  },
  {
   "cell_type": "code",
   "execution_count": 3,
   "metadata": {},
   "outputs": [],
   "source": [
    "paths = [\n",
    "    './openaire/openaire_dois.json',\n",
    "    './openalex/openalex_dois.json',\n",
    "    './zenodo/zenodo_dois.json'      \n",
    "]\n",
    "names = ['openaire', 'openalex', 'zenodo']\n",
    "\n",
    "dfs = []\n",
    "for path, name in zip(paths, names):\n",
    "    data = load_json(path)\n",
    "    df = transform_json(data, name)\n",
    "    dfs.append(df)\n",
    "\n",
    "df = concat_dfs(dfs)\n"
   ]
  },
  {
   "cell_type": "code",
   "execution_count": 4,
   "metadata": {},
   "outputs": [],
   "source": [
    "df = df.drop_duplicates('doi',keep='first')"
   ]
  },
  {
   "cell_type": "code",
   "execution_count": 8,
   "metadata": {},
   "outputs": [
    {
     "name": "stderr",
     "output_type": "stream",
     "text": [
      "<ipython-input-8-c9d344a20244>:1: FutureWarning: The default value of regex will change from True to False in a future version.\n",
      "  df['download_link'] = df['doi'].str.replace('https://doi.org/','https://sci-hub.hkvisa.net/1')\n"
     ]
    }
   ],
   "source": [
    "df['download_link'] = df['doi'].str.replace('https://doi.org/','https://sci-hub.hkvisa.net/1')"
   ]
  },
  {
   "cell_type": "code",
   "execution_count": 9,
   "metadata": {},
   "outputs": [
    {
     "data": {
      "text/html": [
       "<div>\n",
       "<style scoped>\n",
       "    .dataframe tbody tr th:only-of-type {\n",
       "        vertical-align: middle;\n",
       "    }\n",
       "\n",
       "    .dataframe tbody tr th {\n",
       "        vertical-align: top;\n",
       "    }\n",
       "\n",
       "    .dataframe thead th {\n",
       "        text-align: right;\n",
       "    }\n",
       "</style>\n",
       "<table border=\"1\" class=\"dataframe\">\n",
       "  <thead>\n",
       "    <tr style=\"text-align: right;\">\n",
       "      <th></th>\n",
       "      <th>doi</th>\n",
       "      <th>name</th>\n",
       "      <th>doi_clean</th>\n",
       "      <th>download_link</th>\n",
       "    </tr>\n",
       "  </thead>\n",
       "  <tbody>\n",
       "    <tr>\n",
       "      <th>0</th>\n",
       "      <td>https://doi.org/10.6084/m9.figshare.c.3804628_...</td>\n",
       "      <td>openaire</td>\n",
       "      <td>10.6084/m9.figshare.c.3804628_d2.v1</td>\n",
       "      <td>https://sci-hub.hkvisa.net/110.6084/m9.figshar...</td>\n",
       "    </tr>\n",
       "    <tr>\n",
       "      <th>1</th>\n",
       "      <td>https://doi.org/10.6084/m9.figshare.c.3804628_d2</td>\n",
       "      <td>openaire</td>\n",
       "      <td>10.6084/m9.figshare.c.3804628_d2</td>\n",
       "      <td>https://sci-hub.hkvisa.net/110.6084/m9.figshar...</td>\n",
       "    </tr>\n",
       "    <tr>\n",
       "      <th>2</th>\n",
       "      <td>https://doi.org/10.6084/m9.figshare.c.3804628_d1</td>\n",
       "      <td>openaire</td>\n",
       "      <td>10.6084/m9.figshare.c.3804628_d1</td>\n",
       "      <td>https://sci-hub.hkvisa.net/110.6084/m9.figshar...</td>\n",
       "    </tr>\n",
       "    <tr>\n",
       "      <th>3</th>\n",
       "      <td>https://doi.org/10.6084/m9.figshare.c.3804628_...</td>\n",
       "      <td>openaire</td>\n",
       "      <td>10.6084/m9.figshare.c.3804628_d1.v1</td>\n",
       "      <td>https://sci-hub.hkvisa.net/110.6084/m9.figshar...</td>\n",
       "    </tr>\n",
       "    <tr>\n",
       "      <th>4</th>\n",
       "      <td>https://doi.org/10.3389/fpls.2018.01030</td>\n",
       "      <td>openaire</td>\n",
       "      <td>10.3389/fpls.2018.01030</td>\n",
       "      <td>https://sci-hub.hkvisa.net/110.3389/fpls.2018....</td>\n",
       "    </tr>\n",
       "    <tr>\n",
       "      <th>...</th>\n",
       "      <td>...</td>\n",
       "      <td>...</td>\n",
       "      <td>...</td>\n",
       "      <td>...</td>\n",
       "    </tr>\n",
       "    <tr>\n",
       "      <th>328</th>\n",
       "      <td>https://doi.org/10.5281/zenodo.3557376</td>\n",
       "      <td>zenodo</td>\n",
       "      <td>10.5281/zenodo.3557376</td>\n",
       "      <td>https://sci-hub.hkvisa.net/110.5281/zenodo.355...</td>\n",
       "    </tr>\n",
       "    <tr>\n",
       "      <th>329</th>\n",
       "      <td>https://doi.org/10.35940/ijeat.C5328.029320</td>\n",
       "      <td>zenodo</td>\n",
       "      <td>10.35940/ijeat.C5328.029320</td>\n",
       "      <td>https://sci-hub.hkvisa.net/110.35940/ijeat.C53...</td>\n",
       "    </tr>\n",
       "    <tr>\n",
       "      <th>330</th>\n",
       "      <td>https://doi.org/10.21307/ijssis-2017-446</td>\n",
       "      <td>zenodo</td>\n",
       "      <td>10.21307/ijssis-2017-446</td>\n",
       "      <td>https://sci-hub.hkvisa.net/110.21307/ijssis-20...</td>\n",
       "    </tr>\n",
       "    <tr>\n",
       "      <th>331</th>\n",
       "      <td>https://doi.org/10.5281/zenodo.1433824</td>\n",
       "      <td>zenodo</td>\n",
       "      <td>10.5281/zenodo.1433824</td>\n",
       "      <td>https://sci-hub.hkvisa.net/110.5281/zenodo.143...</td>\n",
       "    </tr>\n",
       "    <tr>\n",
       "      <th>332</th>\n",
       "      <td>https://doi.org/10.5281/zenodo.3960393</td>\n",
       "      <td>zenodo</td>\n",
       "      <td>10.5281/zenodo.3960393</td>\n",
       "      <td>https://sci-hub.hkvisa.net/110.5281/zenodo.396...</td>\n",
       "    </tr>\n",
       "  </tbody>\n",
       "</table>\n",
       "<p>961 rows × 4 columns</p>\n",
       "</div>"
      ],
      "text/plain": [
       "                                                   doi      name  \\\n",
       "0    https://doi.org/10.6084/m9.figshare.c.3804628_...  openaire   \n",
       "1     https://doi.org/10.6084/m9.figshare.c.3804628_d2  openaire   \n",
       "2     https://doi.org/10.6084/m9.figshare.c.3804628_d1  openaire   \n",
       "3    https://doi.org/10.6084/m9.figshare.c.3804628_...  openaire   \n",
       "4              https://doi.org/10.3389/fpls.2018.01030  openaire   \n",
       "..                                                 ...       ...   \n",
       "328             https://doi.org/10.5281/zenodo.3557376    zenodo   \n",
       "329        https://doi.org/10.35940/ijeat.C5328.029320    zenodo   \n",
       "330           https://doi.org/10.21307/ijssis-2017-446    zenodo   \n",
       "331             https://doi.org/10.5281/zenodo.1433824    zenodo   \n",
       "332             https://doi.org/10.5281/zenodo.3960393    zenodo   \n",
       "\n",
       "                               doi_clean  \\\n",
       "0    10.6084/m9.figshare.c.3804628_d2.v1   \n",
       "1       10.6084/m9.figshare.c.3804628_d2   \n",
       "2       10.6084/m9.figshare.c.3804628_d1   \n",
       "3    10.6084/m9.figshare.c.3804628_d1.v1   \n",
       "4                10.3389/fpls.2018.01030   \n",
       "..                                   ...   \n",
       "328               10.5281/zenodo.3557376   \n",
       "329          10.35940/ijeat.C5328.029320   \n",
       "330             10.21307/ijssis-2017-446   \n",
       "331               10.5281/zenodo.1433824   \n",
       "332               10.5281/zenodo.3960393   \n",
       "\n",
       "                                         download_link  \n",
       "0    https://sci-hub.hkvisa.net/110.6084/m9.figshar...  \n",
       "1    https://sci-hub.hkvisa.net/110.6084/m9.figshar...  \n",
       "2    https://sci-hub.hkvisa.net/110.6084/m9.figshar...  \n",
       "3    https://sci-hub.hkvisa.net/110.6084/m9.figshar...  \n",
       "4    https://sci-hub.hkvisa.net/110.3389/fpls.2018....  \n",
       "..                                                 ...  \n",
       "328  https://sci-hub.hkvisa.net/110.5281/zenodo.355...  \n",
       "329  https://sci-hub.hkvisa.net/110.35940/ijeat.C53...  \n",
       "330  https://sci-hub.hkvisa.net/110.21307/ijssis-20...  \n",
       "331  https://sci-hub.hkvisa.net/110.5281/zenodo.143...  \n",
       "332  https://sci-hub.hkvisa.net/110.5281/zenodo.396...  \n",
       "\n",
       "[961 rows x 4 columns]"
      ]
     },
     "execution_count": 9,
     "metadata": {},
     "output_type": "execute_result"
    }
   ],
   "source": [
    "df"
   ]
  }
 ],
 "metadata": {
  "kernelspec": {
   "display_name": "Python 3.8.8 ('base')",
   "language": "python",
   "name": "python3"
  },
  "language_info": {
   "codemirror_mode": {
    "name": "ipython",
    "version": 3
   },
   "file_extension": ".py",
   "mimetype": "text/x-python",
   "name": "python",
   "nbconvert_exporter": "python",
   "pygments_lexer": "ipython3",
   "version": "3.8.8"
  },
  "orig_nbformat": 4,
  "vscode": {
   "interpreter": {
    "hash": "3a2a03ea413f8be244ba01daf0e257f98f0dabeb03c7836e7000a0f3738aa8c9"
   }
  }
 },
 "nbformat": 4,
 "nbformat_minor": 2
}
