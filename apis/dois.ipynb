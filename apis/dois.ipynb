{
 "cells": [
  {
   "cell_type": "code",
   "execution_count": 2,
   "metadata": {},
   "outputs": [],
   "source": [
    "import pandas as pd\n",
    "import json"
   ]
  },
  {
   "cell_type": "code",
   "execution_count": 44,
   "metadata": {},
   "outputs": [],
   "source": [
    "doi_df =  pd.read_csv('dois_not_arxiv.csv')"
   ]
  },
  {
   "cell_type": "code",
   "execution_count": 50,
   "metadata": {},
   "outputs": [],
   "source": [
    "# Get the dois_id from the doi column\n",
    "doi_df['dois_id'] = doi_df['doi'].str.split('org/').str[-1]"
   ]
  },
  {
   "cell_type": "code",
   "execution_count": 52,
   "metadata": {},
   "outputs": [],
   "source": [
    "# we are going to delete the ones that have figshare in the doi_id, due to the fact that they are not in the unpaywall api\n",
    "doi_df = doi_df[~doi_df['dois_id'].str.contains('figshare')]"
   ]
  },
  {
   "cell_type": "code",
   "execution_count": 54,
   "metadata": {},
   "outputs": [],
   "source": [
    "# we are going to delete the ones that have zenodo in the doi_id, due to the fact that they are not in the unpaywall api\n",
    "doi_df = doi_df[~doi_df['dois_id'].str.contains('zenodo')]"
   ]
  },
  {
   "cell_type": "code",
   "execution_count": 55,
   "metadata": {},
   "outputs": [
    {
     "data": {
      "text/html": [
       "<div>\n",
       "<style scoped>\n",
       "    .dataframe tbody tr th:only-of-type {\n",
       "        vertical-align: middle;\n",
       "    }\n",
       "\n",
       "    .dataframe tbody tr th {\n",
       "        vertical-align: top;\n",
       "    }\n",
       "\n",
       "    .dataframe thead th {\n",
       "        text-align: right;\n",
       "    }\n",
       "</style>\n",
       "<table border=\"1\" class=\"dataframe\">\n",
       "  <thead>\n",
       "    <tr style=\"text-align: right;\">\n",
       "      <th></th>\n",
       "      <th>doi</th>\n",
       "      <th>name</th>\n",
       "      <th>dois_id</th>\n",
       "    </tr>\n",
       "  </thead>\n",
       "  <tbody>\n",
       "    <tr>\n",
       "      <th>4</th>\n",
       "      <td>https://doi.org/10.3389/fpls.2018.01030</td>\n",
       "      <td>openaire</td>\n",
       "      <td>10.3389/fpls.2018.01030</td>\n",
       "    </tr>\n",
       "    <tr>\n",
       "      <th>5</th>\n",
       "      <td>https://doi.org/10.1186/s13007-017-0199-x</td>\n",
       "      <td>openaire</td>\n",
       "      <td>10.1186/s13007-017-0199-x</td>\n",
       "    </tr>\n",
       "    <tr>\n",
       "      <th>6</th>\n",
       "      <td>https://doi.org/10.1111/pce.13035</td>\n",
       "      <td>openaire</td>\n",
       "      <td>10.1111/pce.13035</td>\n",
       "    </tr>\n",
       "    <tr>\n",
       "      <th>7</th>\n",
       "      <td>https://doi.org/10.1101/102426</td>\n",
       "      <td>openaire</td>\n",
       "      <td>10.1101/102426</td>\n",
       "    </tr>\n",
       "    <tr>\n",
       "      <th>8</th>\n",
       "      <td>https://doi.org/10.1093/jxb/eraa390</td>\n",
       "      <td>openaire</td>\n",
       "      <td>10.1093/jxb/eraa390</td>\n",
       "    </tr>\n",
       "    <tr>\n",
       "      <th>...</th>\n",
       "      <td>...</td>\n",
       "      <td>...</td>\n",
       "      <td>...</td>\n",
       "    </tr>\n",
       "    <tr>\n",
       "      <th>44418</th>\n",
       "      <td>https://doi.org/10.11591/ijeecs.v13.i2.pp831-836</td>\n",
       "      <td>zenodo</td>\n",
       "      <td>10.11591/ijeecs.v13.i2.pp831-836</td>\n",
       "    </tr>\n",
       "    <tr>\n",
       "      <th>44421</th>\n",
       "      <td>https://doi.org/10.1364/OE.24.0A1245</td>\n",
       "      <td>zenodo</td>\n",
       "      <td>10.1364/OE.24.0A1245</td>\n",
       "    </tr>\n",
       "    <tr>\n",
       "      <th>44429</th>\n",
       "      <td>https://doi.org/10.37871/jbres1442</td>\n",
       "      <td>zenodo</td>\n",
       "      <td>10.37871/jbres1442</td>\n",
       "    </tr>\n",
       "    <tr>\n",
       "      <th>44435</th>\n",
       "      <td>https://doi.org/10.35940/ijeat.C5328.029320</td>\n",
       "      <td>zenodo</td>\n",
       "      <td>10.35940/ijeat.C5328.029320</td>\n",
       "    </tr>\n",
       "    <tr>\n",
       "      <th>44436</th>\n",
       "      <td>https://doi.org/10.21307/ijssis-2017-446</td>\n",
       "      <td>zenodo</td>\n",
       "      <td>10.21307/ijssis-2017-446</td>\n",
       "    </tr>\n",
       "  </tbody>\n",
       "</table>\n",
       "<p>41206 rows × 3 columns</p>\n",
       "</div>"
      ],
      "text/plain": [
       "                                                    doi      name  \\\n",
       "4               https://doi.org/10.3389/fpls.2018.01030  openaire   \n",
       "5             https://doi.org/10.1186/s13007-017-0199-x  openaire   \n",
       "6                     https://doi.org/10.1111/pce.13035  openaire   \n",
       "7                        https://doi.org/10.1101/102426  openaire   \n",
       "8                   https://doi.org/10.1093/jxb/eraa390  openaire   \n",
       "...                                                 ...       ...   \n",
       "44418  https://doi.org/10.11591/ijeecs.v13.i2.pp831-836    zenodo   \n",
       "44421              https://doi.org/10.1364/OE.24.0A1245    zenodo   \n",
       "44429                https://doi.org/10.37871/jbres1442    zenodo   \n",
       "44435       https://doi.org/10.35940/ijeat.C5328.029320    zenodo   \n",
       "44436          https://doi.org/10.21307/ijssis-2017-446    zenodo   \n",
       "\n",
       "                                dois_id  \n",
       "4               10.3389/fpls.2018.01030  \n",
       "5             10.1186/s13007-017-0199-x  \n",
       "6                     10.1111/pce.13035  \n",
       "7                        10.1101/102426  \n",
       "8                   10.1093/jxb/eraa390  \n",
       "...                                 ...  \n",
       "44418  10.11591/ijeecs.v13.i2.pp831-836  \n",
       "44421              10.1364/OE.24.0A1245  \n",
       "44429                10.37871/jbres1442  \n",
       "44435       10.35940/ijeat.C5328.029320  \n",
       "44436          10.21307/ijssis-2017-446  \n",
       "\n",
       "[41206 rows x 3 columns]"
      ]
     },
     "execution_count": 55,
     "metadata": {},
     "output_type": "execute_result"
    }
   ],
   "source": [
    "# we are going to negociate pdf content with the unpaywall api\n",
    "doi_df['pdf_url'] = 'https://api.unpaywall.org/v2/' + doi_df['dois_id'] + '?email=YOUR_EMAIL'"
   ]
  },
  {
   "cell_type": "code",
   "execution_count": 41,
   "metadata": {},
   "outputs": [],
   "source": [
    "\n",
    "import requests\n",
    "\n",
    "def download_pdf(url):\n",
    "    r = requests.get(url)\n",
    "    with open('arxiv_pdfs/' + url.split('/')[-1], 'wb') as f:\n",
    "        f.write(r.content)\n",
    "\n",
    "for url in df_arxiv['arxiv_url']:\n",
    "    download_pdf(url)\n",
    "    break"
   ]
  }
 ],
 "metadata": {
  "kernelspec": {
   "display_name": "Python 3.8.8 ('base')",
   "language": "python",
   "name": "python3"
  },
  "language_info": {
   "codemirror_mode": {
    "name": "ipython",
    "version": 3
   },
   "file_extension": ".py",
   "mimetype": "text/x-python",
   "name": "python",
   "nbconvert_exporter": "python",
   "pygments_lexer": "ipython3",
   "version": "3.8.8"
  },
  "orig_nbformat": 4,
  "vscode": {
   "interpreter": {
    "hash": "3a2a03ea413f8be244ba01daf0e257f98f0dabeb03c7836e7000a0f3738aa8c9"
   }
  }
 },
 "nbformat": 4,
 "nbformat_minor": 2
}
