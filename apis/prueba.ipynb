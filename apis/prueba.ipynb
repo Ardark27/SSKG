{
 "cells": [
  {
   "cell_type": "markdown",
   "metadata": {},
   "source": [
    "https://pypi.org/project/unpywall/"
   ]
  },
  {
   "cell_type": "code",
   "execution_count": 20,
   "metadata": {},
   "outputs": [
    {
     "data": {
      "text/plain": [
       "Your email has been set."
      ]
     },
     "execution_count": 20,
     "metadata": {},
     "output_type": "execute_result"
    }
   ],
   "source": [
    "from unpywall.utils import UnpywallCredentials\n",
    "\n",
    "UnpywallCredentials('nick.haupka@gmail.com')"
   ]
  },
  {
   "cell_type": "code",
   "execution_count": null,
   "metadata": {},
   "outputs": [],
   "source": []
  },
  {
   "cell_type": "code",
   "execution_count": 23,
   "metadata": {},
   "outputs": [
    {
     "name": "stderr",
     "output_type": "stream",
     "text": [
      "c:\\Users\\adriy\\anaconda3\\lib\\site-packages\\unpywall\\__init__.py:273: FutureWarning: The frame.append method is deprecated and will be removed from pandas in a future version. Use pandas.concat instead.\n",
      "  df = df.append(df2, ignore_index=True)\n",
      "c:\\Users\\adriy\\anaconda3\\lib\\site-packages\\unpywall\\__init__.py:273: FutureWarning: The frame.append method is deprecated and will be removed from pandas in a future version. Use pandas.concat instead.\n",
      "  df = df.append(df2, ignore_index=True)\n"
     ]
    }
   ],
   "source": [
    "from unpywall import Unpywall\n",
    "\n",
    "a = Unpywall.doi(dois=['10.1063/1.4907590', '10.1111/pce.13388'])"
   ]
  },
  {
   "cell_type": "code",
   "execution_count": 29,
   "metadata": {},
   "outputs": [
    {
     "data": {
      "text/plain": [
       "'https://repository.lboro.ac.uk/articles/journal_contribution/Chemical_reactions_induced_by_oscillating_external_fields_in_weak_thermal_environments/9384812/1/files/16997777.pdf'"
      ]
     },
     "execution_count": 29,
     "metadata": {},
     "output_type": "execute_result"
    }
   ],
   "source": [
    "a[\"best_oa_location.url_for_pdf\"]"
   ]
  },
  {
   "cell_type": "code",
   "execution_count": 17,
   "metadata": {},
   "outputs": [],
   "source": [
    "import requests\n",
    "\n",
    "# Set the DOI of the paper you want to download\n",
    "doi = \"10.1101/102426\"\n",
    "\n",
    "# Set the base URL for the Unpaywall API\n",
    "base_url = \"https://api.unpaywall.org/v2/\"\n",
    "\n",
    "# Set the parameters for the API request\n",
    "params = {\n",
    "    \"doi\": doi,\n",
    "    \"email\": \"unpaywall_01@example.com\"\n",
    "}\n",
    "\n",
    "# Make the API request\n",
    "response = requests.get(base_url, params=params)\n"
   ]
  },
  {
   "cell_type": "code",
   "execution_count": 18,
   "metadata": {},
   "outputs": [
    {
     "data": {
      "text/plain": [
       "b'{\"documentation_url\":\"https://unpaywall.org/api/v2\",\"msg\":\"Don\\'t panic\",\"version\":\"2.0.1\"}\\n'"
      ]
     },
     "execution_count": 18,
     "metadata": {},
     "output_type": "execute_result"
    }
   ],
   "source": [
    "response.content"
   ]
  },
  {
   "cell_type": "code",
   "execution_count": 2,
   "metadata": {},
   "outputs": [
    {
     "ename": "KeyError",
     "evalue": "'best_oa_location'",
     "output_type": "error",
     "traceback": [
      "\u001b[1;31m---------------------------------------------------------------------------\u001b[0m",
      "\u001b[1;31mKeyError\u001b[0m                                  Traceback (most recent call last)",
      "\u001b[1;32mf:\\Beca_colaboracion\\SSKG\\apis\\prueba.ipynb Celda 2\u001b[0m in \u001b[0;36m<cell line: 2>\u001b[1;34m()\u001b[0m\n\u001b[0;32m      <a href='vscode-notebook-cell:/f%3A/Beca_colaboracion/SSKG/apis/prueba.ipynb#W1sZmlsZQ%3D%3D?line=0'>1</a>\u001b[0m \u001b[39m# Check the response status code\u001b[39;00m\n\u001b[0;32m      <a href='vscode-notebook-cell:/f%3A/Beca_colaboracion/SSKG/apis/prueba.ipynb#W1sZmlsZQ%3D%3D?line=1'>2</a>\u001b[0m \u001b[39mif\u001b[39;00m response\u001b[39m.\u001b[39mstatus_code \u001b[39m==\u001b[39m \u001b[39m200\u001b[39m:\n\u001b[0;32m      <a href='vscode-notebook-cell:/f%3A/Beca_colaboracion/SSKG/apis/prueba.ipynb#W1sZmlsZQ%3D%3D?line=2'>3</a>\u001b[0m     \u001b[39m# If the request was successful, get the URL of the PDF from the response\u001b[39;00m\n\u001b[1;32m----> <a href='vscode-notebook-cell:/f%3A/Beca_colaboracion/SSKG/apis/prueba.ipynb#W1sZmlsZQ%3D%3D?line=3'>4</a>\u001b[0m     pdf_url \u001b[39m=\u001b[39m response\u001b[39m.\u001b[39;49mjson()[\u001b[39m\"\u001b[39;49m\u001b[39mbest_oa_location\u001b[39;49m\u001b[39m\"\u001b[39;49m][\u001b[39m\"\u001b[39m\u001b[39murl_for_pdf\u001b[39m\u001b[39m\"\u001b[39m]\n\u001b[0;32m      <a href='vscode-notebook-cell:/f%3A/Beca_colaboracion/SSKG/apis/prueba.ipynb#W1sZmlsZQ%3D%3D?line=5'>6</a>\u001b[0m     \u001b[39m# Download the PDF using the URL\u001b[39;00m\n\u001b[0;32m      <a href='vscode-notebook-cell:/f%3A/Beca_colaboracion/SSKG/apis/prueba.ipynb#W1sZmlsZQ%3D%3D?line=6'>7</a>\u001b[0m     pdf_response \u001b[39m=\u001b[39m requests\u001b[39m.\u001b[39mget(pdf_url)\n",
      "\u001b[1;31mKeyError\u001b[0m: 'best_oa_location'"
     ]
    }
   ],
   "source": [
    "# Check the response status code\n",
    "if response.status_code == 200:\n",
    "    # If the request was successful, get the URL of the PDF from the response\n",
    "    pdf_url = response.json()[\"best_oa_location\"][\"url_for_pdf\"]\n",
    "\n",
    "    # Download the PDF using the URL\n",
    "    pdf_response = requests.get(pdf_url)\n",
    "\n",
    "    # Save the PDF to a file\n",
    "    with open(\"paper.pdf\", \"wb\") as f:\n",
    "        f.write(pdf_response.content)\n",
    "else:\n",
    "    # If the request was not successful, print an error message\n",
    "    print(\"Error: Could not download paper\")"
   ]
  }
 ],
 "metadata": {
  "kernelspec": {
   "display_name": "Python 3.9.13 ('base')",
   "language": "python",
   "name": "python3"
  },
  "language_info": {
   "codemirror_mode": {
    "name": "ipython",
    "version": 3
   },
   "file_extension": ".py",
   "mimetype": "text/x-python",
   "name": "python",
   "nbconvert_exporter": "python",
   "pygments_lexer": "ipython3",
   "version": "3.9.13"
  },
  "orig_nbformat": 4,
  "vscode": {
   "interpreter": {
    "hash": "18a6b418ca989a304418b74e14b57df096d22507d5bd0d85ac6f17ef362aab2d"
   }
  }
 },
 "nbformat": 4,
 "nbformat_minor": 2
}
