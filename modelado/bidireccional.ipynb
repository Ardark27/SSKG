{
 "cells": [
  {
   "cell_type": "code",
   "execution_count": 46,
   "metadata": {},
   "outputs": [],
   "source": [
    "import os\n",
    "import json\n",
    "import bibtexparser\n",
    "def load_json(path):\n",
    "    with open(path, 'r') as f:\n",
    "        return json.load(f)\n"
   ]
  },
  {
   "cell_type": "code",
   "execution_count": 2,
   "metadata": {},
   "outputs": [],
   "source": [
    "data_1 = load_json(r'corpus\\papers_with_code_somef\\1903.10583v1\\felipelouza_bwsd.json')\n",
    "# corpus\\papers_with_code_somef\\1903.10583v1\\felipelouza_gsa-is_.json"
   ]
  },
  {
   "cell_type": "code",
   "execution_count": 3,
   "metadata": {},
   "outputs": [],
   "source": [
    "data_2 = load_json(r'../pdf_info_extractor\\data_somef\\10.1007_978-3-319-68204-4_9\\dgarijo_Widoco_.json')"
   ]
  },
  {
   "cell_type": "code",
   "execution_count": 4,
   "metadata": {},
   "outputs": [],
   "source": [
    "def easy_doi_finder(data:dict):\n",
    "    try:\n",
    "        doi = data['result']['doi']\n",
    "        return doi\n",
    "    except:\n",
    "        return None"
   ]
  },
  {
   "cell_type": "code",
   "execution_count": 5,
   "metadata": {},
   "outputs": [],
   "source": [
    "def text_excerpt_parser(cite_list: list):\n",
    "    # remove @ and {}\n",
    "    cite_list = [element.replace('@', '').replace('{', '').replace('}', '') for element in cite_list]\n",
    "    # strip elements\n",
    "    cite_list = [element.strip() for element in cite_list]\n",
    "    # remove empty elements\n",
    "    cite_list = [element for element in cite_list if element != '']\n",
    "    # remove final comma\n",
    "    cite_list = [element[:-1] if element[-1] == ',' else element for element in cite_list]\n",
    "    \n",
    "    parsed_dict = {}\n",
    "    for element in cite_list:\n",
    "            if element.count('=') == 1:\n",
    "                try:\n",
    "                    key, value = element.split('=')\n",
    "                    key = key.strip()\n",
    "                    value = value.strip()\n",
    "                except ValueError:\n",
    "                    key = element.split('=')[0].strip()\n",
    "                    value = ''\n",
    "                parsed_dict[key] = value\n",
    "    \n",
    "    return parsed_dict"
   ]
  },
  {
   "cell_type": "code",
   "execution_count": 6,
   "metadata": {},
   "outputs": [],
   "source": [
    "\n",
    "def cff_parser(cite_list: list):\n",
    "    '''\n",
    "    Parse the citation list of a cff file given by somef\n",
    "    '''\n",
    "    # replace \" by ''\n",
    "    cite_list = [element.replace('\"', '') for element in cite_list]\n",
    "    # remove empty elements\n",
    "    cite_list = [element for element in cite_list if element != '']\n",
    "    \n",
    "    parsed_dict = {}\n",
    "    for element in cite_list:\n",
    "        if element.count(':') > 1:\n",
    "            key = element.split(':')[0].strip()\n",
    "            value = ':'.join(element.split(':')[1:]).strip()\n",
    "            parsed_dict[key] = value\n",
    "        else:\n",
    "            try:\n",
    "                key, value = element.split(':')\n",
    "                key = key.strip()\n",
    "                value = value.strip()\n",
    "            except ValueError:\n",
    "                key = element.split(':')[0].strip()\n",
    "                value = ''\n",
    "            parsed_dict[key] = value\n",
    "    return parsed_dict"
   ]
  },
  {
   "cell_type": "code",
   "execution_count": 7,
   "metadata": {},
   "outputs": [],
   "source": [
    "def bibtex_parser(cite_list: list):\n",
    "    '''\n",
    "    Parse the citation list of a bibtex ref given by somef\n",
    "    '''\n",
    "    # parse first element\n",
    "    cite_list[0] = cite_list[0].replace('{','=')\n",
    "    # remove @ and {}\n",
    "    cite_list = [element.replace('@', '').replace('{', '').replace('}', '') for element in cite_list]\n",
    "    # strip elements\n",
    "    cite_list = [element.strip() for element in cite_list]\n",
    "    # remove empty elements\n",
    "    cite_list = [element for element in cite_list if element != '']\n",
    "    # remove final comma\n",
    "    cite_list = [element[:-1] if element[-1] == ',' else element for element in cite_list]\n",
    "    parsed_dict = {}\n",
    "    for element in cite_list:\n",
    "        if element.count('=') > 1:\n",
    "            key = element.split('=')[0].strip()\n",
    "            value = '='.join(element.split('=')[1:])\n",
    "            parsed_dict[key] = value\n",
    "        else:\n",
    "            try:\n",
    "                key, value = element.split('=')\n",
    "                key = key.strip()\n",
    "                value = value.strip()\n",
    "            except ValueError:\n",
    "                key = element.split('=')[0].strip()\n",
    "                value = ''\n",
    "            parsed_dict[key] = value\n",
    "    return parsed_dict"
   ]
  },
  {
   "cell_type": "code",
   "execution_count": 8,
   "metadata": {},
   "outputs": [],
   "source": [
    "data_3 = load_json(r'corpus/papers_with_code_somef\\2204.08775v3\\JuliaPlots_Plots.jl.json')"
   ]
  },
  {
   "cell_type": "code",
   "execution_count": 47,
   "metadata": {},
   "outputs": [],
   "source": [
    "def find_doi(somef_data: dict):\n",
    "    '''\n",
    "    Find the doi in somef data \n",
    "    '''\n",
    "    try:\n",
    "        data = somef_data['citation']\n",
    "    except KeyError:\n",
    "        return False\n",
    "        \n",
    "    for cite in data:\n",
    "        try:\n",
    "            if cite['result']['format'] == 'cff':\n",
    "                cff = cff_parser(cite['result']['value'].split('\\n'))\n",
    "                doi_find = cff['doi'].replace('https://doi.org/','').replace('10.48550/arxiv.','').replace('10.48550/ARXIV.','').replace('/','_')\n",
    "                return doi_find,1\n",
    "            elif cite['result']['format'] == 'bibtex':\n",
    "                bibtex = bibtexparser.loads(cite[\"result\"][\"value\"]).entries[0]\n",
    "                doi_find = bibtex['doi'].replace('https://doi.org/','').replace('10.48550/arxiv.','').replace('10.48550/ARXIV.','').replace('/','_')\n",
    "                return doi_find,2\n",
    "            elif cite['result']['type'] == 'Text_excerpt':\n",
    "                text = text_excerpt_parser(cite['result']['value'].split('\\n'))\n",
    "                doi_find = text['doi'].replace('https://doi.org/','').replace('10.48550/arxiv.','').replace('10.48550/ARXIV.','').replace('/','_')\n",
    "                return doi_find,3\n",
    "        except KeyError:\n",
    "            continue\n",
    "    return False"
   ]
  },
  {
   "cell_type": "code",
   "execution_count": 51,
   "metadata": {},
   "outputs": [
    {
     "data": {
      "text/plain": [
       "False"
      ]
     },
     "execution_count": 51,
     "metadata": {},
     "output_type": "execute_result"
    }
   ],
   "source": [
    "find_doi(data_1)"
   ]
  },
  {
   "cell_type": "code",
   "execution_count": 49,
   "metadata": {},
   "outputs": [
    {
     "data": {
      "text/plain": [
       "('10.1007_978-3-319-68204-4_9', 1)"
      ]
     },
     "execution_count": 49,
     "metadata": {},
     "output_type": "execute_result"
    }
   ],
   "source": [
    "find_doi(data_2)"
   ]
  },
  {
   "cell_type": "code",
   "execution_count": 50,
   "metadata": {},
   "outputs": [
    {
     "data": {
      "text/plain": [
       "('2204.08775', 2)"
      ]
     },
     "execution_count": 50,
     "metadata": {},
     "output_type": "execute_result"
    }
   ],
   "source": [
    "find_doi(data_3)"
   ]
  },
  {
   "attachments": {},
   "cell_type": "markdown",
   "metadata": {},
   "source": [
    "## Análisis bibtex"
   ]
  },
  {
   "attachments": {},
   "cell_type": "markdown",
   "metadata": {},
   "source": [
    "https://pypi.org/project/bibtexparser/"
   ]
  },
  {
   "cell_type": "code",
   "execution_count": 37,
   "metadata": {},
   "outputs": [
    {
     "data": {
      "text/plain": [
       "{'misc': 'https://doi.org/10.48550/arxiv.2204.08775',\n",
       " 'doi': '10.48550/ARXIV.2204.08775',\n",
       " 'url': 'https://arxiv.org/abs/2204.08775',\n",
       " 'author': 'Christ, Simon and Schwabeneder, Daniel and Rackauckas, Christopher and Borregaard, Michael Krabbe and Breloff, Thomas',\n",
       " 'keywords': 'Graphics (cs.GR), FOS: Computer and information sciences, FOS: Computer and information sciences, I.3.3',\n",
       " 'title': 'Plots.jl -- a user extendable plotting API for the julia programming language',\n",
       " 'publisher': 'arXiv',\n",
       " 'year': '2022',\n",
       " 'copyright': 'Creative Commons Attribution 4.0 International'}"
      ]
     },
     "execution_count": 37,
     "metadata": {},
     "output_type": "execute_result"
    }
   ],
   "source": [
    "bibtex_parser(data_3[\"citation\"][0]['result']['value'].split('\\n'))"
   ]
  },
  {
   "cell_type": "code",
   "execution_count": 29,
   "metadata": {},
   "outputs": [],
   "source": [
    "import bibtexparser"
   ]
  },
  {
   "cell_type": "code",
   "execution_count": 41,
   "metadata": {},
   "outputs": [],
   "source": [
    "bib_dict = bibtexparser.loads(data_3[\"citation\"][0][\"result\"][\"value\"]).entries[0]"
   ]
  },
  {
   "cell_type": "code",
   "execution_count": 40,
   "metadata": {},
   "outputs": [
    {
     "data": {
      "text/plain": [
       "{'copyright': 'Creative Commons Attribution 4.0 International',\n",
       " 'year': '2022',\n",
       " 'publisher': 'arXiv',\n",
       " 'title': 'Plots.jl -- a user extendable plotting API for the julia programming language',\n",
       " 'keywords': 'Graphics (cs.GR), FOS: Computer and information sciences, FOS: Computer and information sciences, I.3.3',\n",
       " 'author': 'Christ, Simon and Schwabeneder, Daniel and Rackauckas, Christopher and Borregaard, Michael Krabbe and Breloff, Thomas',\n",
       " 'url': 'https://arxiv.org/abs/2204.08775',\n",
       " 'doi': '10.48550/ARXIV.2204.08775',\n",
       " 'ENTRYTYPE': 'misc',\n",
       " 'ID': 'https://doi.org/10.48550/arxiv.2204.08775'}"
      ]
     },
     "execution_count": 40,
     "metadata": {},
     "output_type": "execute_result"
    }
   ],
   "source": [
    "bib_dict"
   ]
  },
  {
   "cell_type": "code",
   "execution_count": 44,
   "metadata": {},
   "outputs": [
    {
     "data": {
      "text/plain": [
       "{'inproceedings': 'garijo2017widoco',\n",
       " 'title': 'WIDOCO: a wizard for documenting ontologies',\n",
       " 'author': 'Garijo, Daniel',\n",
       " 'booktitle': 'International Semantic Web Conference',\n",
       " 'pages': '94--102',\n",
       " 'year': '2017',\n",
       " 'organization': 'Springer, Cham',\n",
       " 'doi': '10.1007/978-3-319-68204-4_9',\n",
       " 'funding': 'USNSF ICER-1541029, NIH 1R01GM117097-01',\n",
       " 'url': 'http://dgarijo.com/papers/widoco-iswc2017.pdf'}"
      ]
     },
     "execution_count": 44,
     "metadata": {},
     "output_type": "execute_result"
    }
   ],
   "source": [
    "bibtex_parser(data_2[\"citation\"][1]['result']['value'].split('\\n'))"
   ]
  },
  {
   "cell_type": "code",
   "execution_count": 45,
   "metadata": {},
   "outputs": [
    {
     "data": {
      "text/plain": [
       "{'url': 'http://dgarijo.com/papers/widoco-iswc2017.pdf',\n",
       " 'funding': 'USNSF ICER-1541029, NIH 1R01GM117097-01',\n",
       " 'doi': '10.1007/978-3-319-68204-4_9',\n",
       " 'organization': 'Springer, Cham',\n",
       " 'year': '2017',\n",
       " 'pages': '94--102',\n",
       " 'booktitle': 'International Semantic Web Conference',\n",
       " 'author': 'Garijo, Daniel',\n",
       " 'title': 'WIDOCO: a wizard for documenting ontologies',\n",
       " 'ENTRYTYPE': 'inproceedings',\n",
       " 'ID': 'garijo2017widoco'}"
      ]
     },
     "execution_count": 45,
     "metadata": {},
     "output_type": "execute_result"
    }
   ],
   "source": [
    "bib_dict = bibtexparser.loads(data_2[\"citation\"][1][\"result\"][\"value\"]).entries[0]\n",
    "bib_dict"
   ]
  }
 ],
 "metadata": {
  "kernelspec": {
   "display_name": "base",
   "language": "python",
   "name": "python3"
  },
  "language_info": {
   "codemirror_mode": {
    "name": "ipython",
    "version": 3
   },
   "file_extension": ".py",
   "mimetype": "text/x-python",
   "name": "python",
   "nbconvert_exporter": "python",
   "pygments_lexer": "ipython3",
   "version": "3.9.13"
  },
  "orig_nbformat": 4,
  "vscode": {
   "interpreter": {
    "hash": "18a6b418ca989a304418b74e14b57df096d22507d5bd0d85ac6f17ef362aab2d"
   }
  }
 },
 "nbformat": 4,
 "nbformat_minor": 2
}
