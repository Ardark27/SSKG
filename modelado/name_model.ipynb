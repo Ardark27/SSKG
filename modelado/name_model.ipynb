{
 "cells": [
  {
   "cell_type": "code",
   "execution_count": 15,
   "metadata": {},
   "outputs": [],
   "source": [
    "import requests\n",
    "import os\n",
    "import json\n",
    "def load_json(path):\n",
    "    with open(path, 'r') as f:\n",
    "        return json.load(f)"
   ]
  },
  {
   "cell_type": "code",
   "execution_count": 34,
   "metadata": {},
   "outputs": [],
   "source": [
    "url_base = \"https://api.crossref.org/works/\"\n",
    "doi = \"10.1007/978-3-319-68204-4_9\"\n",
    "# \"10.1007/978-3-319-68204-4_9\" widoco works\n",
    "# \"10.48550/arxiv.1211.3928\" arxiv doesn't work --> problema ya que muchas urls son de arxiv, no se puede mirar tampoco el corpus de prueba ya que la mayoria son de arxiv\n",
    "# \"10.1103/physreva.95.022713\" works"
   ]
  },
  {
   "cell_type": "code",
   "execution_count": 35,
   "metadata": {},
   "outputs": [],
   "source": [
    "response = requests.get(url_base + doi)"
   ]
  },
  {
   "cell_type": "code",
   "execution_count": 36,
   "metadata": {},
   "outputs": [
    {
     "data": {
      "text/plain": [
       "200"
      ]
     },
     "execution_count": 36,
     "metadata": {},
     "output_type": "execute_result"
    }
   ],
   "source": [
    "response.status_code"
   ]
  },
  {
   "cell_type": "code",
   "execution_count": 37,
   "metadata": {},
   "outputs": [],
   "source": [
    "reponse_json = response.json()"
   ]
  },
  {
   "cell_type": "code",
   "execution_count": 38,
   "metadata": {},
   "outputs": [
    {
     "data": {
      "text/plain": [
       "['WIDOCO: A Wizard for Documenting Ontologies']"
      ]
     },
     "execution_count": 38,
     "metadata": {},
     "output_type": "execute_result"
    }
   ],
   "source": [
    "reponse_json['message']['title']"
   ]
  },
  {
   "cell_type": "code",
   "execution_count": 16,
   "metadata": {},
   "outputs": [],
   "source": [
    "data_1 = load_json(r'corpus\\papers_with_code_somef\\1411.6520v1\\IlyaTrofimov_dlr.json')"
   ]
  },
  {
   "cell_type": "code",
   "execution_count": 22,
   "metadata": {},
   "outputs": [
    {
     "data": {
      "text/plain": [
       "'dlr'"
      ]
     },
     "execution_count": 22,
     "metadata": {},
     "output_type": "execute_result"
    }
   ],
   "source": [
    "data_1['name'][0]['result']['value']"
   ]
  },
  {
   "cell_type": "code",
   "execution_count": 27,
   "metadata": {},
   "outputs": [
    {
     "data": {
      "text/plain": [
       "[{'result': {'value': 'd-GLMNET: Distributed Coordinate Descent for Generalized Linear Models with Regularization',\n",
       "   'type': 'String'},\n",
       "  'confidence': 1,\n",
       "  'technique': 'GitHub_API'},\n",
       " {'result': {'type': 'Text_excerpt',\n",
       "   'value': 'Distributed Coordinate Descent for Generalized Linear Models with Regularization \\n',\n",
       "   'original_header': 'd-GLMNET'},\n",
       "  'confidence': 0.904350773888265,\n",
       "  'technique': 'supervised_classification',\n",
       "  'source': 'https://raw.githubusercontent.com/IlyaTrofimov/dlr/master/README'}]"
      ]
     },
     "execution_count": 27,
     "metadata": {},
     "output_type": "execute_result"
    }
   ],
   "source": [
    "data_1['description']"
   ]
  },
  {
   "attachments": {},
   "cell_type": "markdown",
   "metadata": {},
   "source": [
    "http://lukasschwab.me/arxiv.py/index.html"
   ]
  },
  {
   "cell_type": "code",
   "execution_count": 25,
   "metadata": {},
   "outputs": [
    {
     "name": "stdout",
     "output_type": "stream",
     "text": [
      "Distributed Coordinate Descent for L1-regularized Logistic Regression\n"
     ]
    }
   ],
   "source": [
    "import arxiv\n",
    "\n",
    "search = arxiv.Search(id_list=[\"1411.6520v1\"])\n",
    "paper = next(search.results())\n",
    "print(paper.title)"
   ]
  }
 ],
 "metadata": {
  "kernelspec": {
   "display_name": "base",
   "language": "python",
   "name": "python3"
  },
  "language_info": {
   "codemirror_mode": {
    "name": "ipython",
    "version": 3
   },
   "file_extension": ".py",
   "mimetype": "text/x-python",
   "name": "python",
   "nbconvert_exporter": "python",
   "pygments_lexer": "ipython3",
   "version": "3.9.13"
  },
  "orig_nbformat": 4,
  "vscode": {
   "interpreter": {
    "hash": "18a6b418ca989a304418b74e14b57df096d22507d5bd0d85ac6f17ef362aab2d"
   }
  }
 },
 "nbformat": 4,
 "nbformat_minor": 2
}
